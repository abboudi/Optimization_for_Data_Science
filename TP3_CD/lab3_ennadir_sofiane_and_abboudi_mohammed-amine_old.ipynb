{
 "cells": [
  {
   "cell_type": "markdown",
   "metadata": {},
   "source": [
    "# Short Lab 3 : Proximal/cyclic/greedy coordinate descent\n",
    "\n",
    "#### Authors: A. Gramfort, M. Massias, P. Ablin\n",
    "\n",
    "## Aim\n",
    "\n",
    "The aim of this material is to code \n",
    "- cyclic and greedy coordinate descent for ordinary least squares (OLS)\n",
    "- proximal coordinate descent for sparse Logistic regression\n",
    "\n",
    "## VERY IMPORTANT\n",
    "\n",
    "- This work **must be done by pairs of students**.\n",
    "- **Each** student must send their work **before the 11th of november at 23:59**, using the **moodle platform**.\n",
    "- This means that **each student in the pair sends the same file**\n",
    "- On the moodle, in the \"Optimization for Data Science\" course, you have a \"devoir\" section called **Rendu TP du 5 novembre 2018**. This is where you submit your jupyter notebook file. \n",
    "- The **name of the file must be** constructed as in the next cell\n",
    "\n",
    "# Gentle reminder: no evaluation if you don't respect this EXACTLY\n",
    "\n",
    "### How to construct the name of your file"
   ]
  },
  {
   "cell_type": "code",
   "execution_count": 1,
   "metadata": {},
   "outputs": [
    {
     "name": "stdout",
     "output_type": "stream",
     "text": [
      "lab3_ennadir_sofiane_and_abboudi_mohammed-amine.ipynb\n"
     ]
    }
   ],
   "source": [
    "# Change here using YOUR first and last names\n",
    "fn1 = \"sofiane\"\n",
    "ln1 = \"ennadir\"\n",
    "fn2 = \"mohammed-amine\"\n",
    "ln2 = \"abboudi\"\n",
    "\n",
    "filename = \"_\".join(map(lambda s: s.strip().lower(), \n",
    "                        [\"lab3\", ln1, fn1, \"and\", ln2, fn2])) + \".ipynb\"\n",
    "print(filename)"
   ]
  },
  {
   "cell_type": "code",
   "execution_count": 2,
   "metadata": {},
   "outputs": [],
   "source": [
    "import numpy as np\n",
    "from numpy.linalg import norm\n",
    "import matplotlib.pyplot as plt\n",
    "%matplotlib inline"
   ]
  },
  {
   "cell_type": "code",
   "execution_count": 3,
   "metadata": {},
   "outputs": [],
   "source": [
    "# the usual functions:\n",
    "\n",
    "from numpy.random import multivariate_normal\n",
    "from scipy.linalg.special_matrices import toeplitz\n",
    "from numpy.random import randn\n",
    "\n",
    "\n",
    "def simu(coefs, n_samples=1000, corr=0.5, for_logreg=False):\n",
    "    n_features = len(coefs)\n",
    "    cov = toeplitz(corr ** np.arange(0, n_features))\n",
    "    A = multivariate_normal(np.zeros(n_features), cov, size=n_samples)\n",
    "    b = A.dot(coefs) + randn(n_samples)\n",
    "    if for_logreg:\n",
    "        b = np.sign(b)\n",
    "    return A, b"
   ]
  },
  {
   "cell_type": "markdown",
   "metadata": {},
   "source": [
    "## Part 1: Ordinary Least Squares\n",
    "\n",
    "\n",
    "Let $A \\in \\mathbb{R}^{n \\times p}$, $y \\in \\mathbb{R}^n$.\n",
    "We want to use coordinate descent to solve:\n",
    "    $$\\hat w \\in  \\mathrm{arg \\, min \\,} \\frac 12 \\Vert Aw - b \\Vert ^2 $$\n",
    "\n",
    "We ask you to code:\n",
    "- cyclic coordinate descent: at iteration $t$, update feature $j = t \\mod p$\n",
    "- greedy coordinate descent: at iteration $t$, update feature having the largest partial gradient in magnitude, ie $j = \\mathrm{arg\\, max \\,}_{i} \\vert \\nabla_i f(w_t) \\vert$.\n",
    "\n",
    "\n",
    "**WARNING**: You must do this in a clever way, ie such that $p$ updates cost the same as one update of GD."
   ]
  },
  {
   "cell_type": "code",
   "execution_count": 4,
   "metadata": {},
   "outputs": [],
   "source": [
    "n_features = 100\n",
    "np.random.seed(1970)\n",
    "coefs = np.random.randn(n_features)\n",
    "\n",
    "A, b = simu(coefs, n_samples=1000, for_logreg=False)"
   ]
  },
  {
   "cell_type": "code",
   "execution_count": 5,
   "metadata": {},
   "outputs": [],
   "source": [
    "def cyclic_cd(A, b, n_iter):\n",
    "    n_samples, n_features = A.shape\n",
    "    all_objs = []\n",
    "    \n",
    "    w = np.zeros(n_features)\n",
    "    residuals = b - A.dot(w)\n",
    "    \n",
    "    # TODO\n",
    "    lips_const = np.linalg.norm(A,axis=0) ** 2\n",
    "    # END TODO\n",
    "    \n",
    "    for t in range(n_iter):\n",
    "        j = t % n_features\n",
    "        # TODO\n",
    "        old_w_j = w[j]\n",
    "        w[j] += np.dot(residuals, A[:,j]) / lips_const[j]\n",
    "        # update residuals:\n",
    "        residuals -= A[:,j] * (w[j] - old_w_j)\n",
    "        # END TODO\n",
    "        \n",
    "        if t % n_features == 0:\n",
    "            all_objs.append((residuals ** 2).sum() / 2.)\n",
    "            \n",
    "    return w, np.array(all_objs)\n",
    "\n",
    "\n",
    "def greedy_cd(A, b, n_iter):\n",
    "    n_samples, n_features = A.shape\n",
    "    all_objs = []\n",
    "    \n",
    "    w = np.zeros(n_features)\n",
    "    \n",
    "    gradient = A.T.dot(A.dot(w) - b)\n",
    "    gram = A.T.dot(A)  # you will need this to keep the gradient up to date\n",
    "    \n",
    "    # TODO\n",
    "    lips_const = np.linalg.norm(A,axis=0) ** 2\n",
    "    # END TODO \n",
    "    \n",
    "    for t in range(n_iter):\n",
    "        # TODO\n",
    "        # choose feature j to update: \n",
    "        j = np.argmax(abs(gradient))\n",
    "        old_w_j = w[j]\n",
    "        w[j] -= gradient[j] / lips_const[j]\n",
    "        # update gradient:\n",
    "        gradient += gram[:,j] * (w[j] - old_w_j)\n",
    "        # END TODO\n",
    "        \n",
    "        if t % n_features == 0:\n",
    "            all_objs.append(0.5 * np.linalg.norm(A.dot(w) - b) ** 2)\n",
    "    \n",
    "    return w, np.array(all_objs)\n"
   ]
  },
  {
   "cell_type": "markdown",
   "metadata": {},
   "source": [
    "- compute a precise minimum with your favorite solver\n",
    "- compare the performance of cyclic and greedy CD\n",
    "\n",
    "- from a practical point of view, could you use greedy CD for ridge logistic regression? to solve OLS, but with 100,000 features? Explain your answers."
   ]
  },
  {
   "cell_type": "code",
   "execution_count": 6,
   "metadata": {},
   "outputs": [
    {
     "name": "stdout",
     "output_type": "stream",
     "text": [
      "0.02327026881771773\n",
      "0.03605618070821329\n",
      "19.0\n"
     ]
    },
    {
     "data": {
      "image/png": "[encoded data removed]",
      "text/plain": [
       "<Figure size 432x288 with 1 Axes>"
      ]
     },
     "metadata": {
      "needs_background": "light"
     },
     "output_type": "display_data"
    }
   ],
   "source": [
    "from sklearn.linear_model import ElasticNet, LinearRegression\n",
    "\n",
    "reg = ElasticNet(l1_ratio=0.001, alpha=0.001, random_state=42)\n",
    "# reg = LinearRegression()\n",
    "x_final1, _ = greedy_cd(A, b, 1000)\n",
    "plt.plot(_)\n",
    "x_final2, _ = cyclic_cd(A, b, 1000)\n",
    "plt.plot(_)\n",
    "plt.title('Convergence plot of Greedy CD (Blue) vs. Cyclic CD (Orange)')\n",
    "reg.fit(A,b)\n",
    "\n",
    "print(np.linalg.norm((reg.coef_ - x_final1))) # Distance between precise minimum and Greedy CD solution\n",
    "print(np.linalg.norm((reg.coef_ - x_final2))) # Distance between precise minimum and Cyclic CD solution\n",
    "\n",
    "print(np.linalg.norm((reg.n_iter_ - len(_)))) # Difference of number of iterations"
   ]
  },
  {
   "cell_type": "code",
   "execution_count": 7,
   "metadata": {},
   "outputs": [
    {
     "data": {
      "text/plain": [
       "Text(0, 0.5, 'Distance between the methods')"
      ]
     },
     "execution_count": 7,
     "metadata": {},
     "output_type": "execute_result"
    },
    {
     "data": {
      "image/png": "[encoded data removed]",
      "text/plain": [
       "<Figure size 432x288 with 1 Axes>"
      ]
     },
     "metadata": {
      "needs_background": "light"
     },
     "output_type": "display_data"
    }
   ],
   "source": [
    "alpha_values = np.arange(0.001, 1, 0.01)\n",
    "_ = []\n",
    "for alpha in alpha_values:\n",
    "    reg = ElasticNet(l1_ratio=0.001, alpha=alpha, random_state=42)\n",
    "    _.append(np.linalg.norm((reg.fit(A,b).coef_ - x_final1)))\n",
    "    \n",
    "plt.plot(1-alpha_values, [1/x for x in _])\n",
    "plt.xlabel('Alpha Values')\n",
    "plt.ylabel('Distance between the methods')"
   ]
  },
  {
   "cell_type": "markdown",
   "metadata": {},
   "source": [
    "For logistic ridge regression, the objective function is as follows : \n",
    "$$ f(w) = \\frac{1}{n}\\sum_{i=1}^{n} \\mathrm{log} ( 1 + e^{- b_i w^\\top a_i} )  + \\frac{\\lambda}{2} \\Vert w \\Vert_2^2 $$\n",
    "\n",
    "$f$ is convex and differentiable, while the regularization term is not only convex and separable but L-smooth. It is therefore technically possible to apply greedy CD.\n",
    "The gradient is:\n",
    "\n",
    "$$ \\nabla_j f(w) = \\frac{1}{n} \\sum_{i=1}^{n} - \\frac{b_i a_{ij}}{1 + \\exp(b_i a_i^\\top w)}  + \\lambda w_j. $$\n",
    "\n",
    "Since we can explicitely write the gradient, we can use the same code as before and update as was the case for OLS.\n",
    "\n",
    "From a practical point of view, if the number of features is much greater than the number of samples, it is better not to use coordinate methods as opposed to sample-wise optimisation (SGD) since the cost of a single iteration is independent from the number of features and each the coordiant is chosen based on the maximal gradient. It is therefore possible to achieve convergence faster than cyclic CD or gradient descent when comparing in terms of epochs."
   ]
  },
  {
   "cell_type": "code",
   "execution_count": null,
   "metadata": {},
   "outputs": [],
   "source": []
  },
  {
   "cell_type": "markdown",
   "metadata": {},
   "source": [
    "## Part 2: Sparse Logistic regression"
   ]
  },
  {
   "cell_type": "markdown",
   "metadata": {},
   "source": [
    "### An important result\n",
    "\n",
    "Remember: we are solving \n",
    "$$\\hat w \\in \\mathrm{arg \\, min} \\sum_{i=1}^{n} \\mathrm{log} ( 1 + e^{- y_i w^\\top x_i} )  + \\lambda \\Vert w \\Vert_1$$\n",
    "1) Assuming uniqueness of the solution, show that:\n",
    "$$ \\lambda \\geq \\lambda_{max} \\Leftrightarrow \\hat w = 0$$\n",
    "where $\\lambda_{max} := \\frac 12 \\Vert X^\\top y \\Vert_{\\infty}$.\n",
    "\n",
    "\n",
    "You will need the following beautiful result: for any $w =(w_1, \\dots, w_p) \\in \\mathbb{R}^p$, the subdifferential of the L1 norm at $w$ is:\n",
    "\n",
    "$$\\partial \\Vert \\cdot \\Vert_1 (w) = \\partial \\vert \\cdot \\vert (w_1)  \\times \\dots \\times \\partial \\vert \\cdot \\vert (w_p) $$\n",
    "where $\\times$ is the Cartesian product between sets,\n",
    "and $$ \\partial \\vert \\cdot \\vert (w_j) = \n",
    "\\begin{cases} &w_j / |w_j| &\\mathrm{if} \\quad w_j \\neq 0, \n",
    "         \\\\ & [-1, 1] &\\mathrm{otherwise.} \n",
    "\\end{cases}\n",
    "$$\n",
    "\n",
    "\n",
    "(it should now be easy to find $\\partial \\Vert \\cdot \\Vert_1 (\\mathbf{0}_p)$)"
   ]
  },
  {
   "cell_type": "markdown",
   "metadata": {},
   "source": [
    "We have $ \\partial \\Vert \\cdot \\Vert_1 (\\mathbf{0}_p) = [-1,1]^p \\Leftrightarrow \\forall 1\\leq j\\leq p : |(\\partial \\vert \\cdot \\vert (w_j))|\\leq1$ (*) and since $\\hat w = \\mathrm{arg \\, min} \\sum_{i=1}^{n} \\mathrm{log} ( 1 + e^{- y_i w^\\top x_i} )  + \\lambda \\Vert w \\Vert_1$ :\n",
    "\n",
    "$$ \\hat w = 0 \\Leftrightarrow \\nabla f(\\mathbf{0_p}) = 0 \\Leftrightarrow \\sum_{i=1}^{n} \\frac{y_i x_i} { 1 + e^{( y_i \\mathbf{0_p}^\\top x_i)} }  = \\sum_{i=1}^{n} \\frac{y_i x_i}{2} = \\frac{1}{2} X^\\top y =\\lambda \\partial \\Vert \\cdot \\Vert_1 (\\mathbf{0}_p)$$\n",
    "by replacing element-wise in (*):\n",
    "$$\n",
    "    \\Leftrightarrow \\forall 1\\leq j\\leq p : \\frac{1}{2} |X_j^\\top y| \\leq \\lambda \\Leftrightarrow \\frac{1}{2} \\Vert X^\\top y\\Vert_\\infty\\leq \\lambda\n",
    "$$\n",
    "\n"
   ]
  },
  {
   "cell_type": "markdown",
   "metadata": {},
   "source": [
    "2) Show that for sparse Logistic regression the coordinate-wise Lipschitz constant of the smooth term, $\\gamma_j$, can be taken equal to $\\Vert X_j \\Vert^2 / 4$, where $X_j$ denotes the $j$-th column of $X$."
   ]
  },
  {
   "cell_type": "markdown",
   "metadata": {},
   "source": [
    "We have : $\\Vert\\nabla_j ^2 f(w)\\Vert^2_2 \\leq \\gamma_j\\quad ;\\quad\\forall 1\\leq j\\leq p$.\n",
    "$$\n",
    "\\nabla_j f(\\mathbf{w}) = \\sum_{i=1}^{n} \\frac{-y_i . X_{ij}} { 1 + e^{( y_i \\mathbf{w}^\\top x_i)} } \\Rightarrow \\nabla_j ^2 f(w) = \\sum_{i=1}^{n} y_i^2 . X_{ij}^2.\\phi^{''}(y_i.x_i^\\top w),\\quad \\phi(x) = \\log (1+e^{-x}) \\begin{cases}\\phi^{''}(x) = \\frac{e^x}{(1+e^x)^2}, \n",
    "         \\\\ \\forall x \\in \\mathbb{R} \\quad \\vert\\phi^{''}(x)\\vert\\leq\\frac{1}{4}\n",
    "\\end{cases} \\Rightarrow \\vert \\nabla_j ^2 f(w)\\vert \\leq \\frac{1}{4} \\sum_{i=1}^{n} X_{ij}^2 = \\frac{1}{4} \\Vert X_j\\Vert_2^2\n",
    "$$\n",
    "We can therefore conclude that:\n",
    "$$\\gamma_j \\approx \\frac{1}{4} \\Vert X_j\\Vert_2^2$$"
   ]
  },
  {
   "cell_type": "markdown",
   "metadata": {},
   "source": [
    "You are now ready to code cyclic proximal coordinate descent for sparse Logistic regression:"
   ]
  },
  {
   "cell_type": "markdown",
   "metadata": {},
   "source": [
    "**WARNING**: the Lasso means linear regression (quadratic fitting term) with L1 penalty. Sparse logistic regression means logistic regression with L1 penalty."
   ]
  },
  {
   "cell_type": "code",
   "execution_count": 8,
   "metadata": {},
   "outputs": [],
   "source": [
    "np.random.seed(1970)\n",
    "X, y = simu(coefs, n_samples=1000, for_logreg=True)\n",
    "lambda_max = norm(X.T.dot(y), ord= np.inf) / 2.\n",
    "lamb = lambda_max / 20.  \n",
    "# much easier to parametrize lambda as a function of lambda_max than \n",
    "# to take random values like 0.1 in previous Labs\n",
    "\n",
    "\n",
    "def sigmoid(t):\n",
    "    \"\"\"Sigmoid function\"\"\"\n",
    "    return 1. / (1. + np.exp(-t))\n",
    "\n",
    "\n",
    "def soft_thresh(x, u):\n",
    "    \"\"\"Soft thresholding of x at level u\"\"\"\n",
    "    return np.sign(x) * np.maximum(0., np.abs(x) - u)\n",
    "\n",
    "\n",
    "def cd_logreg(X, y, lamb, n_iter):\n",
    "    n_samples, n_features = X.shape\n",
    "    w = np.zeros(n_features)\n",
    "    Xw = X.dot(w)\n",
    "    all_objs = np.zeros(n_iter)\n",
    "    \n",
    "    # TODO\n",
    "    lips_const = np.linalg.norm(X,axis=0) ** 2 * 1 / 4\n",
    "    # END TODO\n",
    "    \n",
    "    for t in range(n_iter):\n",
    "        for j in range(n_features):\n",
    "            old_w_j = w[j]\n",
    "            # TODO\n",
    "            \n",
    "            grad_j = (- y * X[:,j] * sigmoid(- y * Xw)).sum()\n",
    "            \n",
    "            w[j] = soft_thresh(old_w_j - (1 / lips_const[j]) * grad_j, lamb/lips_const[j])\n",
    "            \n",
    "            if old_w_j != w[j]:\n",
    "                Xw += X[:,j] * (w[j] - old_w_j)\n",
    "            #END TODO\n",
    "            \n",
    "        all_objs[t] = np.log(1. + np.exp(-y * Xw)).sum() + lamb * norm(w, ord=1)\n",
    "    \n",
    "    return w, all_objs"
   ]
  },
  {
   "cell_type": "code",
   "execution_count": 9,
   "metadata": {},
   "outputs": [
    {
     "data": {
      "text/plain": [
       "[<matplotlib.lines.Line2D at 0x1a1f093b50>]"
      ]
     },
     "execution_count": 9,
     "metadata": {},
     "output_type": "execute_result"
    },
    {
     "data": {
      "image/png": "[encoded data removed]",
      "text/plain": [
       "<Figure size 432x288 with 1 Axes>"
      ]
     },
     "metadata": {
      "needs_background": "light"
     },
     "output_type": "display_data"
    }
   ],
   "source": [
    "x_final3, _ = cd_logreg(X, y, lamb, 100)\n",
    "plt.plot(_)"
   ]
  },
  {
   "cell_type": "markdown",
   "metadata": {},
   "source": [
    "# Part 3: Real data\n",
    "\n",
    "We will compare vanilla cyclic CD and ISTA to solve the Lasso on a real dataset, called _leukemia_."
   ]
  },
  {
   "cell_type": "code",
   "execution_count": 10,
   "metadata": {},
   "outputs": [],
   "source": [
    "from sklearn.datasets import fetch_openml\n",
    "\n",
    "leuk = fetch_openml(\"leukemia\")\n",
    "\n",
    "X = np.asfortranarray(leuk.data)\n",
    "y = np.ones(leuk.target.shape)\n",
    "y[leuk.target == leuk.target[0]] = -1."
   ]
  },
  {
   "cell_type": "code",
   "execution_count": 11,
   "metadata": {},
   "outputs": [
    {
     "name": "stdout",
     "output_type": "stream",
     "text": [
      "(72, 7129)\n"
     ]
    }
   ],
   "source": [
    "print(X.shape)\n",
    "\n",
    "lambda_max_lasso = norm(X.T.dot(y), ord=np.inf)\n",
    "lambd = lambda_max_lasso / 5."
   ]
  },
  {
   "cell_type": "markdown",
   "metadata": {},
   "source": [
    "Code:\n",
    "- a simple proximal gradient solver for the Lasso\n",
    "- a prox CD solver for the Lasso\n",
    "and compare them on this dataset. \n",
    "Do the plots in terms of epochs, not updates (to be fair to CD)."
   ]
  },
  {
   "cell_type": "code",
   "execution_count": 36,
   "metadata": {},
   "outputs": [],
   "source": [
    "def cd_lasso(X, y, lamb, n_iter):\n",
    "    n_samples, n_features = X.shape\n",
    "    w = np.zeros(n_features)\n",
    "    Xw = X.dot(w)\n",
    "    all_objs = []\n",
    "\n",
    "   \n",
    "    # TODO\n",
    "    lips_const =  (np.linalg.norm(X, axis=0) ** 2)\n",
    "    # END TODO\n",
    "   \n",
    "\n",
    "   \n",
    "    for t in range(n_iter):\n",
    "        \n",
    "        all_objs.append(0.5 * np.linalg.norm(Xw - y) ** 2 + lamb * norm(w, ord=1))\n",
    "        \n",
    "        for j in range(n_features):\n",
    "            old_w_j = w[j]\n",
    "            # TODO\n",
    "            grad_j= X[:,j].T.dot(Xw-y)\n",
    "            w[j] = soft_thresh(old_w_j-grad_j/lips_const[j] , lamb/lips_const[j])\n",
    "            #gradient += gram[:,j] *(w[j]-old_w_j)\n",
    "           \n",
    "            if old_w_j != w[j]:\n",
    "                Xw += X[:,j]*(w[j]-old_w_j)\n",
    "            #END TODO\n",
    "           \n",
    "   \n",
    "    return w, np.array(all_objs)\n",
    "\n",
    "\n",
    "w, cd_loss = cd_lasso(X, y, lambd, 20)"
   ]
  },
  {
   "cell_type": "code",
   "execution_count": 30,
   "metadata": {},
   "outputs": [],
   "source": [
    "def ista(X, y, lamb, n_iter):\n",
    "    \n",
    "    n_samples, n_features = X.shape\n",
    "    w = np.zeros(n_features)\n",
    "    all_objs = []\n",
    "    \n",
    "    lips_const = np.linalg.norm(X, ord=2) ** 2  # Lipschitz constant\n",
    "\n",
    "    for t in range(n_iter):\n",
    "        this_obj = 0.5 * np.linalg.norm(X.dot(w) - y) ** 2 + lamb * np.linalg.norm(w, ord=1)\n",
    "        \n",
    "        all_objs.append(this_obj)\n",
    "        w = soft_thresh(w + np.dot(X.T, y - X.dot(w)) / lips_const, lamb / lips_const)\n",
    "        \n",
    "        \n",
    "    return w, np.array(all_objs)"
   ]
  },
  {
   "cell_type": "code",
   "execution_count": 33,
   "metadata": {},
   "outputs": [
    {
     "name": "stdout",
     "output_type": "stream",
     "text": [
      "2855404997960.694\n"
     ]
    }
   ],
   "source": [
    "w_ista, ista_loss = ista(X, y, lambd, 200)"
   ]
  },
  {
   "cell_type": "code",
   "execution_count": 34,
   "metadata": {},
   "outputs": [
    {
     "data": {
      "text/plain": [
       "[<matplotlib.lines.Line2D at 0x1a1f9820d0>]"
      ]
     },
     "execution_count": 34,
     "metadata": {},
     "output_type": "execute_result"
    },
    {
     "data": {
      "image/png": "[encoded data removed]",
      "text/plain": [
       "<Figure size 432x288 with 1 Axes>"
      ]
     },
     "metadata": {
      "needs_background": "light"
     },
     "output_type": "display_data"
    }
   ],
   "source": [
    "plt.plot(ista_loss)\n",
    "plt.plot(cd_loss)"
   ]
  }
 ],
 "metadata": {
  "anaconda-cloud": {},
  "kernelspec": {
   "display_name": "Python 3",
   "language": "python",
   "name": "python3"
  },
  "language_info": {
   "codemirror_mode": {
    "name": "ipython",
    "version": 3
   },
   "file_extension": ".py",
   "mimetype": "text/x-python",
   "name": "python",
   "nbconvert_exporter": "python",
   "pygments_lexer": "ipython3",
   "version": "3.7.4"
  }
 },
 "nbformat": 4,
 "nbformat_minor": 2
}
