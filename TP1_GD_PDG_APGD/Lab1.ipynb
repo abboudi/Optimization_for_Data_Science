{
 "cells": [
  {
   "cell_type": "markdown",
   "metadata": {},
   "source": [
    "# Lab 1 : First order methods on regression models\n",
    "\n",
    "#### Authors: A. Gramfort, R. Gower, P. Ablin, M. Massias, Q. Bertrand, N. Gazagnadou\n",
    "\n",
    "## Aim\n",
    "\n",
    "The aim of this material is to code \n",
    "- proximal gradient descent (PGD)\n",
    "- accelerated proximal gradient descent (APGD) \n",
    "\n",
    "for \n",
    "- linear regression\n",
    "- logistic regression \n",
    "\n",
    "models.\n",
    "\n",
    "The proximal operators we will use are the \n",
    "- L2 penalization\n",
    "- L1 penalization\n",
    "\n",
    "## VERY IMPORTANT\n",
    "\n",
    "- This work **must be done by pairs of students**.\n",
    "- **Each** student must send their work **before the 6th of october at 21:59**, using the **moodle platform**.\n",
    "- This means that **each student in the pair sends the same file**\n",
    "- On the moodle, in the \"Optimization for Data Science\" course, you have a \"devoir\" section called **Rendu TP du 30 septembre 2019**. This is where you submit your jupyter notebook file. \n",
    "- The **name of the file must be** constructed as in the next cell\n",
    "\n",
    "# Gentle reminder: no evaluation if you don't respect this EXACTLY\n",
    "\n",
    "### How to construct the name of your file"
   ]
  },
  {
   "cell_type": "code",
   "execution_count": 76,
   "metadata": {},
   "outputs": [
    {
     "name": "stdout",
     "output_type": "stream",
     "text": [
      "lab1_ennadir_sofiane_and_abboudi_mohammed-amine.ipynb\n"
     ]
    }
   ],
   "source": [
    "# Change here using YOUR first and last names\n",
    "fn1 = \"sofiane\"\n",
    "ln1 = \"ennadir\"\n",
    "fn2 = \"mohammed-amine\"\n",
    "ln2 = \"abboudi\"\n",
    "\n",
    "filename = \"_\".join(map(lambda s: s.strip().lower(), \n",
    "                        [\"lab1\", ln1, fn1, \"and\", ln2, fn2])) + \".ipynb\"\n",
    "print(filename)"
   ]
  },
  {
   "cell_type": "code",
   "execution_count": 77,
   "metadata": {},
   "outputs": [],
   "source": [
    "## to embed figures in the notebook\n",
    "%matplotlib inline"
   ]
  },
  {
   "cell_type": "markdown",
   "metadata": {},
   "source": [
    "## Part 0 : Introduction\n",
    "\n",
    "We'll start by generating sparse vectors and simulating data\n",
    "\n",
    "### Generating sparse coefficients"
   ]
  },
  {
   "cell_type": "code",
   "execution_count": 103,
   "metadata": {},
   "outputs": [],
   "source": [
    "import numpy as np\n",
    "np.random.seed(42)\n",
    "import matplotlib.pyplot as plt\n",
    "from numpy.linalg import norm\n",
    "np.set_printoptions(precision=2)  # to have simpler print outputs with numpy"
   ]
  },
  {
   "cell_type": "code",
   "execution_count": 104,
   "metadata": {
    "scrolled": false
   },
   "outputs": [
    {
     "data": {
      "text/plain": [
       "Text(0.5, 1.0, 'Parameters / Coefficients')"
      ]
     },
     "execution_count": 104,
     "metadata": {},
     "output_type": "execute_result"
    },
    {
     "data": {
      "image/png": "[encoded data removed]",
      "text/plain": [
       "<Figure size 432x288 with 1 Axes>"
      ]
     },
     "metadata": {
      "needs_background": "light"
     },
     "output_type": "display_data"
    }
   ],
   "source": [
    "n_features = 50\n",
    "n_samples = 1000\n",
    "idx = np.arange(n_features)\n",
    "coefs = ((-1) ** idx) * np.exp(-idx / 10.)\n",
    "coefs[20:] = 0.\n",
    "plt.stem(coefs)\n",
    "plt.title(\"Parameters / Coefficients\")"
   ]
  },
  {
   "cell_type": "markdown",
   "metadata": {},
   "source": [
    "### Functions for the simulation of the models"
   ]
  },
  {
   "cell_type": "code",
   "execution_count": 105,
   "metadata": {},
   "outputs": [],
   "source": [
    "from numpy.random import multivariate_normal\n",
    "from scipy.linalg.special_matrices import toeplitz\n",
    "from numpy.random import randn\n",
    "\n",
    "\n",
    "def simu_linreg(coefs, n_samples=1000, corr=0.5):\n",
    "    \"\"\"Simulation of a linear regression model\n",
    "    \n",
    "    Parameters\n",
    "    ----------\n",
    "    coefs : `numpy.array`, shape (n_features,)\n",
    "        Coefficients of the model\n",
    "    \n",
    "    n_samples : `int`, default=1000\n",
    "        Number of samples to simulate\n",
    "    \n",
    "    corr : `float`, default=0.5\n",
    "        Correlation of the features\n",
    "\n",
    "    Returns\n",
    "    -------\n",
    "    A : `numpy.ndarray`, shape (n_samples, n_features)\n",
    "        Simulated features matrix. It samples of a centered Gaussian \n",
    "        vector with covariance given by the Toeplitz matrix\n",
    "    \n",
    "    b : `numpy.array`, shape (n_samples,)\n",
    "        Simulated labels\n",
    "    \"\"\"\n",
    "    # Construction of a covariance matrix\n",
    "    cov = toeplitz(corr ** np.arange(0, n_features))\n",
    "    # Simulation of features\n",
    "    A = multivariate_normal(np.zeros(n_features), cov, size=n_samples)\n",
    "    # Simulation of the labels\n",
    "    b = A.dot(coefs) + randn(n_samples)\n",
    "    return A, b\n",
    "\n",
    "def sigmoid(t):\n",
    "    \"\"\"Sigmoid function\"\"\"\n",
    "    return 1. / (1. + np.exp(-t))\n",
    "\n",
    "def simu_logreg(coefs, n_samples=1000, corr=0.5):\n",
    "    \"\"\"Simulation of a logistic regression model\n",
    "\n",
    "    Parameters\n",
    "    ----------\n",
    "    coefs : `numpy.array`, shape (n_features,)\n",
    "        Coefficients of the model\n",
    "    \n",
    "    n_samples : `int`, default=1000\n",
    "        Number of samples to simulate\n",
    "    \n",
    "    corr : `float`, default=0.5\n",
    "        Correlation of the features\n",
    "\n",
    "    Returns\n",
    "    -------\n",
    "    A : `numpy.ndarray`, shape (n_samples, n_features)\n",
    "        Simulated features matrix. It samples of a centered Gaussian \n",
    "        vector with covariance given by the Toeplitz matrix\n",
    "    \n",
    "    b : `numpy.array`, shape (n_samples,)\n",
    "        Simulated labels\n",
    "    \"\"\"\n",
    "    cov = toeplitz(corr ** np.arange(0, n_features))\n",
    "    A = multivariate_normal(np.zeros(n_features), cov, size=n_samples)\n",
    "    p = sigmoid(A.dot(coefs))\n",
    "    b = np.random.binomial(1, p, size=n_samples)\n",
    "    b = 2 * b - 1\n",
    "    return A, b"
   ]
  },
  {
   "cell_type": "markdown",
   "metadata": {},
   "source": [
    "## Generate the data"
   ]
  },
  {
   "cell_type": "code",
   "execution_count": 106,
   "metadata": {},
   "outputs": [
    {
     "data": {
      "text/plain": [
       "(array([[-0.67,  0.03,  0.36, ...,  1.21, -0.2 , -0.76],\n",
       "        [-0.03, -0.87, -0.71, ..., -0.33,  0.36,  0.25],\n",
       "        [-1.27,  0.23,  0.44, ..., -0.83, -0.43,  1.61],\n",
       "        ...,\n",
       "        [-1.68, -0.74, -1.33, ..., -0.72,  0.2 ,  0.84],\n",
       "        [-0.18, -0.51,  1.19, ..., -0.32,  2.54,  1.82],\n",
       "        [ 0.2 ,  0.39,  0.55, ..., -0.6 , -1.01,  1.52]]),\n",
       " array([ 1,  1,  1, -1, -1, -1,  1,  1,  1,  1,  1, -1,  1, -1, -1,  1,  1,\n",
       "        -1,  1, -1, -1,  1,  1,  1,  1, -1,  1,  1, -1, -1, -1, -1, -1,  1,\n",
       "        -1,  1, -1, -1, -1, -1, -1,  1,  1,  1,  1,  1,  1,  1,  1, -1, -1,\n",
       "        -1,  1, -1, -1,  1,  1, -1,  1,  1, -1, -1,  1,  1,  1, -1, -1, -1,\n",
       "         1, -1,  1,  1, -1,  1,  1,  1,  1, -1,  1,  1, -1, -1,  1,  1,  1,\n",
       "         1,  1,  1, -1, -1,  1,  1,  1, -1,  1, -1,  1,  1, -1, -1, -1,  1,\n",
       "        -1, -1,  1, -1, -1,  1, -1,  1,  1, -1, -1, -1,  1, -1, -1, -1,  1,\n",
       "         1,  1, -1,  1,  1,  1,  1, -1, -1,  1, -1, -1,  1, -1, -1,  1, -1,\n",
       "        -1,  1, -1, -1,  1, -1, -1, -1, -1,  1,  1, -1, -1, -1, -1,  1,  1,\n",
       "        -1, -1, -1, -1,  1, -1, -1,  1, -1, -1, -1,  1, -1,  1, -1, -1, -1,\n",
       "        -1,  1,  1,  1,  1, -1,  1, -1,  1,  1,  1,  1,  1,  1,  1,  1, -1,\n",
       "         1, -1, -1,  1, -1,  1, -1,  1,  1, -1, -1,  1,  1, -1,  1, -1, -1,\n",
       "         1,  1, -1,  1, -1, -1,  1, -1,  1,  1, -1,  1, -1,  1, -1,  1, -1,\n",
       "         1, -1, -1, -1,  1, -1,  1, -1, -1, -1, -1,  1, -1,  1,  1,  1,  1,\n",
       "         1,  1, -1,  1, -1, -1, -1, -1,  1,  1,  1, -1,  1, -1, -1,  1,  1,\n",
       "         1, -1,  1, -1, -1, -1,  1, -1,  1, -1,  1,  1,  1, -1, -1, -1, -1,\n",
       "         1, -1, -1, -1,  1, -1, -1, -1, -1,  1, -1,  1, -1, -1,  1, -1, -1,\n",
       "        -1,  1,  1, -1,  1,  1,  1, -1,  1,  1, -1, -1,  1, -1, -1,  1,  1,\n",
       "         1,  1,  1, -1, -1,  1,  1, -1, -1, -1, -1,  1, -1, -1,  1, -1,  1,\n",
       "        -1,  1,  1,  1,  1,  1, -1, -1, -1,  1, -1, -1,  1, -1, -1, -1, -1,\n",
       "        -1,  1, -1, -1,  1, -1, -1,  1,  1, -1, -1,  1, -1,  1, -1, -1,  1,\n",
       "         1, -1,  1, -1,  1, -1, -1, -1, -1,  1, -1, -1, -1, -1,  1,  1, -1,\n",
       "        -1,  1,  1,  1,  1,  1,  1, -1,  1, -1, -1,  1,  1,  1, -1, -1, -1,\n",
       "        -1, -1,  1,  1, -1,  1, -1,  1, -1, -1, -1,  1,  1,  1, -1, -1, -1,\n",
       "         1,  1, -1,  1, -1, -1, -1,  1, -1,  1,  1, -1,  1, -1, -1,  1,  1,\n",
       "        -1, -1,  1,  1, -1, -1, -1, -1, -1, -1,  1, -1, -1,  1,  1, -1, -1,\n",
       "        -1,  1, -1, -1, -1, -1,  1,  1, -1, -1,  1, -1, -1, -1,  1,  1,  1,\n",
       "        -1,  1,  1, -1,  1,  1,  1,  1,  1, -1,  1, -1, -1,  1,  1, -1, -1,\n",
       "         1,  1, -1,  1,  1,  1,  1,  1,  1, -1,  1,  1, -1,  1,  1, -1,  1,\n",
       "        -1,  1,  1, -1, -1, -1,  1, -1, -1,  1, -1,  1, -1, -1,  1, -1,  1,\n",
       "        -1,  1, -1, -1, -1,  1, -1, -1,  1, -1, -1,  1,  1, -1, -1, -1, -1,\n",
       "         1,  1, -1,  1,  1, -1,  1,  1,  1,  1, -1,  1,  1,  1,  1,  1,  1,\n",
       "         1,  1,  1,  1, -1,  1,  1, -1,  1,  1,  1, -1, -1, -1, -1, -1,  1,\n",
       "         1, -1, -1,  1,  1, -1, -1,  1, -1, -1,  1,  1,  1, -1,  1, -1,  1,\n",
       "        -1, -1,  1,  1,  1,  1,  1,  1,  1,  1, -1,  1,  1,  1, -1, -1, -1,\n",
       "         1, -1, -1,  1,  1, -1,  1,  1, -1,  1,  1, -1,  1, -1, -1,  1, -1,\n",
       "        -1, -1, -1,  1, -1, -1,  1, -1, -1, -1, -1,  1, -1, -1, -1, -1,  1,\n",
       "        -1,  1, -1,  1, -1, -1,  1, -1,  1,  1, -1,  1, -1, -1, -1, -1,  1,\n",
       "         1,  1, -1, -1, -1,  1,  1, -1, -1, -1,  1,  1,  1,  1,  1, -1,  1,\n",
       "         1, -1, -1, -1,  1, -1, -1, -1, -1, -1,  1, -1,  1,  1, -1, -1,  1,\n",
       "        -1,  1,  1,  1,  1, -1, -1,  1, -1,  1, -1, -1, -1, -1, -1,  1, -1,\n",
       "        -1, -1, -1,  1,  1,  1, -1, -1,  1, -1,  1,  1, -1,  1,  1, -1, -1,\n",
       "        -1,  1, -1,  1, -1,  1, -1,  1, -1,  1,  1,  1,  1,  1, -1,  1,  1,\n",
       "        -1, -1, -1,  1, -1,  1,  1,  1,  1,  1, -1, -1,  1,  1, -1,  1, -1,\n",
       "        -1, -1,  1, -1, -1, -1,  1,  1, -1, -1,  1,  1,  1,  1, -1, -1, -1,\n",
       "        -1,  1,  1, -1, -1, -1,  1, -1, -1,  1, -1, -1, -1, -1, -1,  1, -1,\n",
       "        -1, -1,  1, -1, -1,  1,  1,  1, -1,  1, -1,  1, -1, -1, -1,  1,  1,\n",
       "         1,  1, -1,  1, -1, -1, -1, -1,  1,  1, -1,  1,  1,  1, -1,  1,  1,\n",
       "        -1,  1,  1, -1, -1,  1,  1, -1, -1, -1, -1, -1,  1, -1, -1, -1, -1,\n",
       "        -1, -1, -1, -1, -1, -1,  1, -1,  1,  1,  1,  1,  1, -1, -1, -1, -1,\n",
       "        -1,  1, -1, -1,  1, -1,  1, -1, -1,  1, -1,  1,  1,  1,  1, -1, -1,\n",
       "        -1,  1, -1, -1, -1,  1,  1,  1,  1, -1,  1, -1, -1, -1, -1, -1,  1,\n",
       "         1, -1,  1, -1, -1,  1,  1, -1,  1,  1, -1, -1,  1,  1,  1, -1, -1,\n",
       "        -1, -1,  1,  1, -1, -1, -1, -1, -1,  1,  1, -1,  1, -1, -1,  1, -1,\n",
       "         1,  1, -1,  1,  1,  1, -1, -1,  1, -1, -1, -1, -1,  1, -1,  1,  1,\n",
       "         1,  1,  1, -1,  1, -1, -1, -1,  1,  1,  1, -1, -1, -1, -1,  1,  1,\n",
       "         1, -1,  1,  1,  1, -1, -1,  1, -1, -1,  1, -1,  1, -1,  1,  1,  1,\n",
       "        -1, -1,  1, -1,  1,  1,  1,  1, -1,  1,  1,  1,  1,  1, -1, -1, -1,\n",
       "        -1, -1,  1, -1, -1,  1,  1, -1, -1, -1, -1, -1,  1,  1]))"
      ]
     },
     "execution_count": 106,
     "metadata": {},
     "output_type": "execute_result"
    }
   ],
   "source": [
    "# A, b = simu_linreg(coefs);\n",
    "A, b = simu_logreg(coefs);  # uncomment when you want to test logistic regression\n",
    "\n",
    "A, b"
   ]
  },
  {
   "cell_type": "markdown",
   "metadata": {},
   "source": [
    "## Part 1 : Proximal operators"
   ]
  },
  {
   "cell_type": "markdown",
   "metadata": {},
   "source": [
    "We remind that the proximal operator of a function $R$ is given by:\n",
    "\n",
    "$$\n",
    "\\text{prox}_{\\lambda\\,R}(x) = \\arg\\min_z \\left\\{ \\frac{1}{2} \\Vert x - z\\Vert_2^2 + \\lambda \\,R(z) \\right\\}.\n",
    "$$\n",
    "\n",
    "\n",
    "We have in mind to use the following cases\n",
    "\n",
    "- L2 penalization: $\\lambda\\, R(z) = \\frac{\\lambda}{2} \\|z\\|_2^2$\n",
    "- L1 penalization: $\\lambda\\, R(z) = \\lambda\\|z|\\|_1$\n",
    "\n",
    "where $\\lambda \\geq 0$ is a regularization parameter."
   ]
  },
  {
   "cell_type": "markdown",
   "metadata": {},
   "source": [
    "<div class=\"alert alert-success\">\n",
    "    <b>Questions</b>:\n",
    "     <ul>\n",
    "      <li>Code a function that computes $\\lambda \\, R(x)$ in both cases and $\\text{prox}_{\\lambda\\, R}(x)$ for L2 and  L1 penalization (use the slides of the first course to get the formulas), using the prototypes given below</li>\n",
    "     <li>Hint: for the prox of the L1 norm you can either use the formula from the course or rewrite it with np.max and np.sign functions\n",
    "    </li>\n",
    "      <li>Visualize the identity function and the proximity operators of the L2 and L1 on the real axis\n",
    "    </li>\n",
    "    </ul>\n",
    "</div>"
   ]
  },
  {
   "cell_type": "code",
   "execution_count": 148,
   "metadata": {},
   "outputs": [],
   "source": [
    "def prox_L1(x, lmbd):\n",
    "    \"\"\"Proximal operator for the L1 at x\"\"\"\n",
    "    \n",
    "    # First Method\n",
    "    '''\n",
    "    if x > lmbd : \n",
    "        z = x - lmbd\n",
    "        \n",
    "    elif x < lmbd and x > - lmbd:\n",
    "        z = 0\n",
    "        \n",
    "    else:\n",
    "        z = lmbd + x\n",
    "    '''\n",
    "    \n",
    "    # Second Method (Easier to implement)\n",
    "    z = np.sign(x) * np.maximum(np.abs(x) - lmbd, 0.)\n",
    "    return z\n",
    "\n",
    "def L1_norm(x, lmbd):\n",
    "    \"\"\"Value of the L1 penalization at x\"\"\"\n",
    "    z = lmbd * (np.sum(np.abs(x)))\n",
    "    return z # TODO\n",
    "\n",
    "def prox_L2(x, lmbd):\n",
    "    \"\"\"Proximal operator for the L2 at x\"\"\"\n",
    "    z = np.maximum(np.sum(x**2) - lmbd, 0) * (x/np.sum(x**2))\n",
    "    return z\n",
    "\n",
    "def L2_norm(x, lmbd):\n",
    "    \"\"\"Value of the L2 penalization at x\"\"\"\n",
    "    z = (lmbd/2) * (np.sum(x**2))\n",
    "    return z # TODO"
   ]
  },
  {
   "cell_type": "code",
   "execution_count": 149,
   "metadata": {},
   "outputs": [
    {
     "data": {
      "text/plain": [
       "<matplotlib.legend.Legend at 0x10228c8320>"
      ]
     },
     "execution_count": 149,
     "metadata": {},
     "output_type": "execute_result"
    },
    {
     "data": {
      "image/png": "[encoded data removed]",
      "text/plain": [
       "<Figure size 432x288 with 1 Axes>"
      ]
     },
     "metadata": {
      "needs_background": "light"
     },
     "output_type": "display_data"
    }
   ],
   "source": [
    "# Plots TODO\n",
    "\n",
    "x = np.arange(-5,5,step = 0.5)\n",
    "lmbds = [.1,.5,1.,1.5,2.]\n",
    "for lmbd in lmbds:\n",
    "    plt.plot(prox_L1(x, lmbd))\n",
    "    plt.plot(prox_L2(x, lmbd))\n",
    "plt.legend(lmbds)"
   ]
  },
  {
   "cell_type": "markdown",
   "metadata": {},
   "source": [
    "## Visualization\n",
    "\n",
    "We are now going to visualize the effect of the proximity operators on coefficients."
   ]
  },
  {
   "cell_type": "code",
   "execution_count": 133,
   "metadata": {
    "scrolled": false
   },
   "outputs": [
    {
     "data": {
      "text/plain": [
       "(-2, 2)"
      ]
     },
     "execution_count": 133,
     "metadata": {},
     "output_type": "execute_result"
    },
    {
     "data": {
      "image/png": "[encoded data removed]",
      "text/plain": [
       "<Figure size 1080x288 with 3 Axes>"
      ]
     },
     "metadata": {
      "needs_background": "light"
     },
     "output_type": "display_data"
    }
   ],
   "source": [
    "x = randn(50)\n",
    "l_l1 = 1.\n",
    "l_l2 = 1.\n",
    "\n",
    "plt.figure(figsize=(15.0, 4.0))\n",
    "plt.subplot(1, 3, 1)\n",
    "plt.stem(x)\n",
    "plt.title(\"Original parameter\", fontsize=16)\n",
    "plt.ylim([-2, 2])\n",
    "plt.subplot(1, 3, 2)\n",
    "plt.stem(prox_L1(x, lmbd=l_l1))\n",
    "plt.title(\"Proximal L1\", fontsize=16)\n",
    "plt.ylim([-2, 2])\n",
    "plt.subplot(1, 3, 3)\n",
    "plt.stem(prox_L2(x, lmbd=l_l2))\n",
    "plt.title(\"Proximal L2\", fontsize=16)\n",
    "plt.ylim([-2, 2])"
   ]
  },
  {
   "cell_type": "markdown",
   "metadata": {},
   "source": [
    "<div class=\"alert alert-success\">\n",
    "    <b>Question</b>:\n",
    "     <ul>\n",
    "      <li>Comment what you observe (1 or 2 sentences).</li>\n",
    "    </ul>\n",
    "</div>"
   ]
  },
  {
   "cell_type": "markdown",
   "metadata": {},
   "source": [
    "We observe that the L2 norm gives a better approximation of x regardless of the penalization level. This is due to the fact that the squared L2-norm is quadratic, convex and L-smooth. L1-norm gives better results in inverse proportion to lambda's value."
   ]
  },
  {
   "cell_type": "markdown",
   "metadata": {},
   "source": [
    "## Part 2: Gradients\n",
    "\n",
    "The problems we want to minimize take the form:\n",
    "$$\n",
    "\\arg\\min_x f(x) + \\lambda \\,R(x)\n",
    "$$\n",
    "where $f$ is $L$-smooth and $R$ is prox friendly.\n",
    "\n",
    "Consider the following cases:\n",
    "\n",
    "**Linear regression**, where \n",
    "$$\n",
    "f(x) = \\frac{1}{2n} \\sum_{i=1}^n (b_i - a_i^\\top x)^2 = \\frac{1}{2 n} \\| b - A x \\|_2^2,\n",
    "$$\n",
    "where $n$ is the sample size, $b = [b_1 \\cdots b_n]$ is the vector of labels and $A^\\top = [a_1,\\ldots, a_n] \\in \\mathbb{R}^{d \\times n}$ is the matrix of features.\n",
    "\n",
    "**Logistic regression**, where\n",
    "$$\n",
    "f(x) = \\frac{1}{n} \\sum_{i=1}^n \\log(1 + \\exp(-b_i a_i^\\top x)),\n",
    "$$\n",
    "where $n$ is the sample size, and where labels $b_i \\in \\{ -1, 1 \\}$ for all $i$.\n",
    "\n",
    "We need to be able to compute $f$ and its gradient $\\nabla f$"
   ]
  },
  {
   "cell_type": "markdown",
   "metadata": {},
   "source": [
    "<div class=\"alert alert-success\">\n",
    "    <b>Questions</b>:\n",
    "     <ul>\n",
    "      <li>Compute on paper the gradient $\\nabla f$ of $f$ for both cases (linear and logistic regression)</li>\n",
    "      <li>Code a function that computes $f$ and its gradient $\\nabla f$ in both cases, using the prototypes below.</li>\n",
    "      <li>Check that these loss functions are correct by numerically checking their ouputs</li>\n",
    "      <li>Check that these functions are correct by numerically checking the gradient, using the function ``<a href=\"https://docs.scipy.org/doc/scipy/reference/generated/scipy.optimize.check_grad.html\">check_grad</a>`` from ``scipy.optimize``. Remark: use the functions `simu_linreg` and `simu_logreg` to simulate data according to the right model</li>\n",
    "    </ul>\n",
    "</div>"
   ]
  },
  {
   "cell_type": "code",
   "execution_count": 134,
   "metadata": {},
   "outputs": [],
   "source": [
    "def loss_linreg(x):\n",
    "    global A,b\n",
    "    loss = L2_norm(b-np.matmul(A,x),1/len(b))\n",
    "    return loss\n",
    "\n",
    "def grad_linreg(x):\n",
    "    return (1/len(b)) * (A.T)@(A@x-b)\n",
    "\n",
    "def loss_logreg(x):\n",
    "    return (1/len(b)) * np.sum(np.log(1+np.exp(-(b)*(A@x))))\n",
    "\n",
    "def grad_logreg(x):\n",
    "    \n",
    "    grad_loss_reg = np.zeros(A.shape[1])\n",
    "    \n",
    "    for j in range(A.shape[1]):\n",
    "        grad_loss_reg[j] = (1/len(b)) * np.sum((-A[:,j]*b)/(1+np.exp(b*(A@x))))\n",
    "                                          \n",
    "    return grad_loss_reg"
   ]
  },
  {
   "cell_type": "code",
   "execution_count": 135,
   "metadata": {},
   "outputs": [
    {
     "name": "stdout",
     "output_type": "stream",
     "text": [
      "Error for linear regression gradient : 5.248136883403641e-07\n",
      "Error for logistic regression gradient : 1.4361465368091863e-07\n"
     ]
    }
   ],
   "source": [
    "# Check our gradiant function for linear regression\n",
    "from scipy.optimize import check_grad\n",
    "print(\"Error for linear regression gradient : \" + str(check_grad(loss_linreg, grad_linreg, x)))\n",
    "# Check our gradiant function for logistic regression\n",
    "from scipy.optimize import check_grad\n",
    "print(\"Error for logistic regression gradient : \" + str(check_grad(loss_logreg, grad_logreg, x)))"
   ]
  },
  {
   "cell_type": "markdown",
   "metadata": {},
   "source": [
    "## Part 3: Solvers"
   ]
  },
  {
   "cell_type": "markdown",
   "metadata": {},
   "source": [
    "We know have a function to compute $f$, $\\nabla f$ and $R$ and $\\text{prox}_{\\lambda R}$. \n",
    "\n",
    "We want now to code the PGD and APGD solvers to minimize\n",
    "\n",
    "$$\n",
    "\\arg\\min_x f(x) + \\lambda \\, R(x)\n",
    "$$\n",
    "\n",
    "where $\\lambda >0$ is the regularization parameter"
   ]
  },
  {
   "cell_type": "markdown",
   "metadata": {},
   "source": [
    "<div class=\"alert alert-success\">\n",
    "    <b>Questions</b>:\n",
    "     <ul>\n",
    "      <li>Compute on paper the Lipschitz constant for linear and logistic regression losses. Remark: for the logistic regression, you should try to upper bound the second derivative</li>\n",
    "      <li>Hint: the computation of the Lipschitz constant for the linear regression should be easy (cf course).\n",
    "         But the computation of the Lipschitz constant for the logistic regression may be trickier. \n",
    "                 You may want to write $f$ as $f(x) = \\frac{1}{n} \\sum_i \\phi(b_i a_i^\\top x)$, and then show that $|\\phi''| \\leq \\frac{1}{4}$.</li>\n",
    "      <li>Implement functions that compute the Lipschitz constant for both cases (linear and logistic regression). Note that the operator norm of a matrix can \n",
    "  be computed using the function <a href=\"https://docs.scipy.org/doc/numpy/reference/generated/numpy.linalg.norm.html\">numpy.linalg.norm</a> (Be careful with the norm you chose! Read the documentation\n",
    "  of the function)</li>\n",
    "      <li>Finish the functions `PGD` and `APGD` below that implements the \n",
    "  PGD (Proximal Gradient Descent) and APGD (Accelerated Proximal \n",
    "  Gradient Descent) algorithms.\n",
    "       Note: PGD is sometimes called ISTA (Iterative Soft Thresholding Algorithm) and APGD is sometimes called FISTA (Fast ISTA)</li> \n",
    "    </ul>\n",
    "</div>"
   ]
  },
  {
   "cell_type": "code",
   "execution_count": 150,
   "metadata": {},
   "outputs": [],
   "source": [
    "# TO BE COMPLETED\n",
    "\n",
    "# Calculate the smoothness constant for least squares loss\n",
    "def smoothness_const_linreg(A):\n",
    "    \"\"\"Lipschitz constant for least squares loss\"\"\"   \n",
    "    H_linreg = (1/(A.shape[0])) * (np.matmul(A.T,A))\n",
    "    L_linreg = LA.eigvals(H_linreg.T@H_linreg).max()\n",
    "    return L_linreg\n",
    "\n",
    "# Calculate the smoothness constant for logistic loss    \n",
    "def smoothness_const_loreg(A):\n",
    "    \"\"\"Lipschitz constant for logistic loss\"\"\"\n",
    "    \n",
    "    H = np.zeros((n_features,n_features))\n",
    "    for j in range(n_features):\n",
    "        for k in range(n_features):\n",
    "            H[j,k] = np.sum(A[:,j]*A[:,k]/(4*A.shape[0]))\n",
    "        \n",
    "    L_logreg = LA.eigvals(H).max()\n",
    "    return L_logreg\n",
    "    \n",
    "def PGD(x0, f, grad_f, R, prox_R, step, lmbda=0., n_iter=50,\n",
    "         x_true=coefs, verbose=True):\n",
    "    \"\"\"Proximal gradient descent algorithm\"\"\"\n",
    "    x = x0.copy()\n",
    "    n_samples, n_features = A.shape\n",
    "\n",
    "    # estimation error history\n",
    "    errors = []\n",
    "    # objective history\n",
    "    objectives = []\n",
    "    # Current estimation error\n",
    "    err = norm(x - x_true) / norm(x_true)\n",
    "    errors.append(err)\n",
    "    # Current objective\n",
    "    obj = f(x) + R(x, lmbda)\n",
    "    objectives.append(obj)\n",
    "    if verbose:\n",
    "        print(\"Lauching PGD solver...\")\n",
    "        print(' | '.join([name.center(8) for name in [\"it\", \"obj\", \"err\"]]))\n",
    "    for k in range(n_iter + 1):\n",
    "\n",
    "        #### TODO ####\n",
    "        \n",
    "        x = prox_R(x - 1/step * grad_f(x), lmbda)\n",
    "        \n",
    "        obj = f(x) + R(x, lmbda)\n",
    "        err = norm(x - x_true) / norm(x_true)\n",
    "        errors.append(err)\n",
    "        objectives.append(obj)\n",
    "        if k % 10 == 0 and verbose:\n",
    "            print(' | '.join([(\"%d\" % k).rjust(8), \n",
    "                              (\"%.2e\" % obj).rjust(8), \n",
    "                              (\"%.2e\" % err).rjust(8)]))\n",
    "    return x, objectives, errors"
   ]
  },
  {
   "cell_type": "code",
   "execution_count": 120,
   "metadata": {},
   "outputs": [],
   "source": [
    "# TO BE COMPLETED\n",
    "\n",
    "def APGD(x0, f, grad_f, R, prox_R, step, lmbd=0., n_iter=50,\n",
    "         x_true=coefs, verbose=True):\n",
    "    \"\"\"Accelerated Proximal gradient descent algorithm\"\"\"\n",
    "    x = x0.copy()\n",
    "    x_new = x0.copy()\n",
    "    # An extra variable is required for APGD\n",
    "    z = x0.copy()\n",
    "    n_samples, n_features = A.shape\n",
    "    # estimation error history\n",
    "    errors = []\n",
    "    # objective history\n",
    "    objectives = []\n",
    "    # Current estimation error\n",
    "    err = norm(x - x_true) / norm(x_true)\n",
    "    errors.append(err)\n",
    "    # Current objective\n",
    "    obj = f(x) + R(x, lmbda)\n",
    "    objectives.append(obj)\n",
    "    t = 1.\n",
    "    t_new = 1.    \n",
    "    if verbose:\n",
    "        print(\"Lauching APGD solver...\")\n",
    "        print(' | '.join([name.center(8) for name in [\"it\", \"obj\", \"err\"]]))\n",
    "    for k in range(n_iter + 1):\n",
    "\n",
    "        #### TODO ####\n",
    "        obj = f(x) + R(x, lmbda)\n",
    "        err = norm(x - x_true) / norm(x_true)\n",
    "        errors.append(err)\n",
    "        objectives.append(obj)\n",
    "        if k % 10 == 0 and verbose:\n",
    "            print(' | '.join([(\"%d\" % k).rjust(8), \n",
    "                              (\"%.2e\" % obj).rjust(8), \n",
    "                              (\"%.2e\" % err).rjust(8)]))\n",
    "    return x, np.array(objectives), np.array(errors)"
   ]
  },
  {
   "cell_type": "markdown",
   "metadata": {},
   "source": [
    "## Algorithms comparison and numerical experiments"
   ]
  },
  {
   "cell_type": "code",
   "execution_count": 151,
   "metadata": {},
   "outputs": [
    {
     "name": "stdout",
     "output_type": "stream",
     "text": [
      "Lauching PGD solver...\n",
      "   it    |   obj    |   err   \n",
      "       0 | 5.00e-01 | 1.00e+00\n",
      "      10 | 5.00e-01 | 1.00e+00\n",
      "      20 | 5.00e-01 | 1.00e+00\n",
      "      30 | 5.00e-01 | 1.00e+00\n",
      "      40 | 5.00e-01 | 1.00e+00\n"
     ]
    }
   ],
   "source": [
    "# Some definitions before launching the algorithms\n",
    "\n",
    "x0 = np.zeros(n_features)\n",
    "n_iter = 40\n",
    "lmbd = 1e-2\n",
    "\n",
    "x_out, obj_out, err = PGD(x0, loss_linreg, grad_linreg, L2_norm, prox_L2, smoothness_const_linreg(A), lmbda=lmbd, n_iter=n_iter,\n",
    "         x_true=coefs, verbose=True)"
   ]
  },
  {
   "cell_type": "markdown",
   "metadata": {},
   "source": [
    "<div class=\"alert alert-success\">\n",
    "    <b>Questions</b>:\n",
    "     <ul>\n",
    "      <li>Compute a precise minimum and a precise minimizer of the problem (linear regression or logistic regression) using the parameters given above. This can be done by using APGD with 1000 iterations and setting `x_true` to `coeffs`.</li>\n",
    "    <li>Compare the convergences of PGD and APGD, in terms of distance to the minimum and \n",
    "  distance to the minimizer you have computed. Do your plots using a logarithmic scale of the y-axis.</li>\n",
    "    </ul>\n",
    "</div>"
   ]
  },
  {
   "cell_type": "markdown",
   "metadata": {},
   "source": [
    "<div class=\"alert alert-success\">\n",
    "    <b>EXERCISE</b>:\n",
    "     <ul>\n",
    "      <li>Compare the solution you obtain with ista and fista with the true parameter `coefs` of\n",
    "  the model. This can be done with `plt.stem` plots.</li>\n",
    "    <li>In linear regression and logistic regression, study the influence of the correlation \n",
    "  of the features on the performance of the optimization algorithms. Explain.</li>\n",
    "    <li>In linear regression and logistic regression, study the influence of the level of L2 \n",
    "  penalization on the performance of the optimization algorithms. Explain.</li>\n",
    "    <li>In linear regression and logistic regression, compare the performance of the optimization\n",
    "  algorithms for L2 and L1 penalizations. Explain</li>\n",
    "    </ul>\n",
    "</div>"
   ]
  },
  {
   "cell_type": "code",
   "execution_count": 152,
   "metadata": {},
   "outputs": [
    {
     "data": {
      "text/plain": [
       "array([ 0., -0.,  0., -0.,  0., -0.,  0., -0.,  0., -0.,  0., -0.,  0.,\n",
       "       -0.,  0., -0.,  0., -0., -0., -0., -0., -0., -0.,  0.,  0.,  0.,\n",
       "        0.,  0.,  0.,  0.,  0.,  0.,  0.,  0., -0., -0., -0., -0., -0.,\n",
       "       -0., -0.,  0., -0.,  0.,  0., -0., -0., -0.,  0.,  0.])"
      ]
     },
     "execution_count": 152,
     "metadata": {},
     "output_type": "execute_result"
    }
   ],
   "source": [
    "x_out"
   ]
  },
  {
   "cell_type": "code",
   "execution_count": 118,
   "metadata": {},
   "outputs": [
    {
     "data": {
      "text/plain": [
       "array([ 1.  , -0.9 ,  0.82, -0.74,  0.67, -0.61,  0.55, -0.5 ,  0.45,\n",
       "       -0.41,  0.37, -0.33,  0.3 , -0.27,  0.25, -0.22,  0.2 , -0.18,\n",
       "        0.17, -0.15,  0.  ,  0.  ,  0.  ,  0.  ,  0.  ,  0.  ,  0.  ,\n",
       "        0.  ,  0.  ,  0.  ,  0.  ,  0.  ,  0.  ,  0.  ,  0.  ,  0.  ,\n",
       "        0.  ,  0.  ,  0.  ,  0.  ,  0.  ,  0.  ,  0.  ,  0.  ,  0.  ,\n",
       "        0.  ,  0.  ,  0.  ,  0.  ,  0.  ])"
      ]
     },
     "execution_count": 118,
     "metadata": {},
     "output_type": "execute_result"
    }
   ],
   "source": [
    "coefs"
   ]
  },
  {
   "cell_type": "code",
   "execution_count": null,
   "metadata": {},
   "outputs": [],
   "source": []
  }
 ],
 "metadata": {
  "anaconda-cloud": {},
  "kernelspec": {
   "display_name": "Python 3",
   "language": "python",
   "name": "python3"
  },
  "language_info": {
   "codemirror_mode": {
    "name": "ipython",
    "version": 3
   },
   "file_extension": ".py",
   "mimetype": "text/x-python",
   "name": "python",
   "nbconvert_exporter": "python",
   "pygments_lexer": "ipython3",
   "version": "3.7.1"
  }
 },
 "nbformat": 4,
 "nbformat_minor": 2
}
